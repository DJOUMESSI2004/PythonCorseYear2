{
  "cells": [
    {
      "cell_type": "markdown",
      "metadata": {
        "id": "VvSpPt9gFnL4"
      },
      "source": [
        "# I - Python Programming"
      ]
    },
    {
      "cell_type": "markdown",
      "metadata": {
        "id": "qLwQXdVCFnNW"
      },
      "source": [
        "## I.1. Data Types and Data Structures"
      ]
    },
    {
      "cell_type": "markdown",
      "metadata": {
        "id": "C6l4cbK1FnNY"
      },
      "source": [
        "![](https://images.unsplash.com/photo-1465161191540-aac346fcbaff?ixlib=rb-1.2.1&ixid=eyJhcHBfaWQiOjEyMDd9&auto=format&fit=crop&w=1000&q=80)\n",
        "Photo by [Jessica Ruscello](https://unsplash.com/photos/-GUyf8ZCTHM)"
      ]
    },
    {
      "cell_type": "markdown",
      "metadata": {
        "id": "VXHDT3nbFnNd"
      },
      "source": [
        "# I. Data types and operators"
      ]
    },
    {
      "cell_type": "markdown",
      "metadata": {
        "id": "DFOGv5VEFnNf"
      },
      "source": [
        "**Very important pythonic rules** :\n",
        "- Python is case sensitive : always be careful with capital letters\n",
        "- Spacing matters : use 4 whitespaces to indent your code"
      ]
    },
    {
      "cell_type": "markdown",
      "metadata": {
        "id": "cl99zEFFFnNh"
      },
      "source": [
        "**Data types : `int`, `float`, `str`, `bool`\n",
        "\n",
        "**Operators** :\n",
        "\n",
        "| Operator | Category\n",
        "| ----------- | ----------\n",
        "| + - * ** / // % | Arithmetic\n",
        "| += -= \\*= \\/= | Incrementation and decrementation\n",
        "| + += | String concatenation\n",
        "| == != < > <= >= | Comparison\n",
        "| is is not | Identity\n",
        "| and or ! (xor) | Logical\n",
        "| . | Object method or attribute\n",
        "| [ ] | Access specific elements in a list\n"
      ]
    },
    {
      "cell_type": "markdown",
      "metadata": {
        "id": "yS4jaOpaFnNm"
      },
      "source": [
        "## I.1. Numbers and arithmetic operators"
      ]
    },
    {
      "cell_type": "markdown",
      "metadata": {
        "id": "nB3zoEzVFnNs"
      },
      "source": [
        "There are two types of numbers : `int` (ex: 2) and `float` (ex: 3.5)"
      ]
    },
    {
      "cell_type": "markdown",
      "metadata": {
        "id": "Zah2SsC8FnNz"
      },
      "source": [
        "You can use the following arithmetic operators on numbers :\n",
        "\n",
        "| Operation | Symbol\n",
        "| ------------ | :----:\n",
        "| sum | +\n",
        "| substraction | -\n",
        "| multiplication | *\n",
        "| power | **\n",
        "| division | /\n",
        "| integer division | //\n",
        "| modulo | %\n",
        "\n",
        "- Do not forget to put a whitespace between each number and operator sign or parenthesis\n",
        "- Be careful : Python follows operator precedence conventions"
      ]
    },
    {
      "cell_type": "code",
      "execution_count": null,
      "metadata": {
        "colab": {
          "base_uri": "https://localhost:8080/"
        },
        "id": "bGVFXry2FnPZ",
        "outputId": "5f8b62d1-c338-4d38-9d15-bbad52f4c5f8"
      },
      "outputs": [
        {
          "data": {
            "text/plain": [
              "8.0"
            ]
          },
          "execution_count": 1,
          "metadata": {},
          "output_type": "execute_result"
        }
      ],
      "source": [
        "10 / 2 + 3"
      ]
    },
    {
      "cell_type": "code",
      "execution_count": null,
      "metadata": {
        "colab": {
          "base_uri": "https://localhost:8080/"
        },
        "id": "TlKrFEIXGNwq",
        "outputId": "61770fe0-4efd-4440-98a3-7596dce2c674"
      },
      "outputs": [
        {
          "data": {
            "text/plain": [
              "1"
            ]
          },
          "execution_count": 11,
          "metadata": {},
          "output_type": "execute_result"
        }
      ],
      "source": [
        "9 % 2"
      ]
    },
    {
      "cell_type": "code",
      "execution_count": null,
      "metadata": {
        "colab": {
          "base_uri": "https://localhost:8080/"
        },
        "id": "36TwQjt7FnQD",
        "outputId": "2d619fd4-f475-4ed8-e43b-9f4be6f16d33"
      },
      "outputs": [
        {
          "data": {
            "text/plain": [
              "2.0"
            ]
          },
          "execution_count": 2,
          "metadata": {},
          "output_type": "execute_result"
        }
      ],
      "source": [
        "10 / (2 + 3)"
      ]
    },
    {
      "cell_type": "code",
      "execution_count": null,
      "metadata": {
        "id": "IqSf8Mi5FnQS"
      },
      "outputs": [],
      "source": [
        "# Powers of 10\n",
        "3e6"
      ]
    },
    {
      "cell_type": "markdown",
      "metadata": {
        "id": "SP_HHu6CFnQU"
      },
      "source": [
        "## I.2. Strings"
      ]
    },
    {
      "cell_type": "markdown",
      "metadata": {
        "id": "Lo3eyrLoFnQX"
      },
      "source": [
        "**`str`** : sequence of characters between quotes (double or simple as you want)."
      ]
    },
    {
      "cell_type": "code",
      "execution_count": 1,
      "metadata": {
        "colab": {
          "base_uri": "https://localhost:8080/",
          "height": 35
        },
        "id": "5mnrLcLPFnQb",
        "outputId": "05553794-92e0-4fd4-ca73-a31bc01905d0"
      },
      "outputs": [
        {
          "data": {
            "text/plain": [
              "'Hello world'"
            ]
          },
          "execution_count": 1,
          "metadata": {},
          "output_type": "execute_result"
        }
      ],
      "source": [
        "\"Hello world\""
      ]
    },
    {
      "cell_type": "code",
      "execution_count": null,
      "metadata": {
        "colab": {
          "base_uri": "https://localhost:8080/",
          "height": 133
        },
        "id": "mzCJweSvFnQf",
        "outputId": "a689a517-fc68-455d-98a2-d23c5d0e0f4b"
      },
      "outputs": [
        {
          "ename": "SyntaxError",
          "evalue": "ignored",
          "output_type": "error",
          "traceback": [
            "\u001b[0;36m  File \u001b[0;32m\"<ipython-input-17-08feb7484dfd>\"\u001b[0;36m, line \u001b[0;32m2\u001b[0m\n\u001b[0;31m    \"He says \"Hello world\"\"\u001b[0m\n\u001b[0m                  ^\u001b[0m\n\u001b[0;31mSyntaxError\u001b[0m\u001b[0;31m:\u001b[0m invalid syntax\n"
          ]
        }
      ],
      "source": [
        "# If you need to use quotes inside the string, you can use the type of quotes you didn't use first.\n",
        "\"He says Hello world\""
      ]
    },
    {
      "cell_type": "code",
      "execution_count": null,
      "metadata": {
        "colab": {
          "base_uri": "https://localhost:8080/",
          "height": 35
        },
        "id": "Lg_kYLHVFnQg",
        "outputId": "cf29c165-4e2e-4525-8364-4e188e74e182"
      },
      "outputs": [
        {
          "data": {
            "application/vnd.google.colaboratory.intrinsic+json": {
              "type": "string"
            },
            "text/plain": [
              "\"He says 'Hello world'\""
            ]
          },
          "execution_count": 18,
          "metadata": {},
          "output_type": "execute_result"
        }
      ],
      "source": [
        "\"He says 'Hello world'\""
      ]
    },
    {
      "cell_type": "code",
      "execution_count": null,
      "metadata": {
        "id": "xy4Xs1MfFnQq"
      },
      "outputs": [],
      "source": [
        "#  Or a '\\' before single quote to indicate it's part of the string.\n",
        "'This isn't what I said'"
      ]
    },
    {
      "cell_type": "code",
      "execution_count": null,
      "metadata": {
        "colab": {
          "base_uri": "https://localhost:8080/",
          "height": 35
        },
        "id": "SwAuIpYUFnQt",
        "outputId": "78e5c466-2546-4dbd-9363-89f6e94b7bc1"
      },
      "outputs": [
        {
          "data": {
            "application/vnd.google.colaboratory.intrinsic+json": {
              "type": "string"
            },
            "text/plain": [
              "\"This isn't what I said\""
            ]
          },
          "execution_count": 19,
          "metadata": {},
          "output_type": "execute_result"
        }
      ],
      "source": [
        "'This isn\\'t what I said'"
      ]
    },
    {
      "cell_type": "markdown",
      "metadata": {
        "id": "AjI1r0a7FnQx"
      },
      "source": [
        "### Operations on strings"
      ]
    },
    {
      "cell_type": "code",
      "execution_count": null,
      "metadata": {
        "colab": {
          "base_uri": "https://localhost:8080/",
          "height": 35
        },
        "id": "mK_U4LygFnQ3",
        "outputId": "7ba081d8-e235-401b-8669-414168d2317f"
      },
      "outputs": [
        {
          "data": {
            "application/vnd.google.colaboratory.intrinsic+json": {
              "type": "string"
            },
            "text/plain": [
              "'Helloworld'"
            ]
          },
          "execution_count": 20,
          "metadata": {},
          "output_type": "execute_result"
        }
      ],
      "source": [
        "# `+` for concatenation.\n",
        "'Hello' + 'world'"
      ]
    },
    {
      "cell_type": "code",
      "execution_count": null,
      "metadata": {
        "colab": {
          "base_uri": "https://localhost:8080/",
          "height": 35
        },
        "id": "F7WCnZQiFnQ8",
        "outputId": "75a596cd-ba83-4533-d05b-dd84b2b393b3"
      },
      "outputs": [
        {
          "data": {
            "application/vnd.google.colaboratory.intrinsic+json": {
              "type": "string"
            },
            "text/plain": [
              "'Hello world'"
            ]
          },
          "execution_count": 21,
          "metadata": {},
          "output_type": "execute_result"
        }
      ],
      "source": [
        "# Be careful, it's litteral: if you need to put a whitespace between the strings, you have to write it.\n",
        "'Hello' + ' ' + 'world'"
      ]
    },
    {
      "cell_type": "code",
      "execution_count": null,
      "metadata": {
        "colab": {
          "base_uri": "https://localhost:8080/",
          "height": 35
        },
        "id": "xEqL7URLFnRA",
        "outputId": "f7cca238-967f-4dd9-a817-d9ae18340756"
      },
      "outputs": [
        {
          "data": {
            "application/vnd.google.colaboratory.intrinsic+json": {
              "type": "string"
            },
            "text/plain": [
              "'************************************'"
            ]
          },
          "execution_count": 23,
          "metadata": {},
          "output_type": "execute_result"
        }
      ],
      "source": [
        "# '* ' multiplies the string\n",
        "'*' * 36"
      ]
    },
    {
      "cell_type": "code",
      "execution_count": null,
      "metadata": {
        "colab": {
          "base_uri": "https://localhost:8080/"
        },
        "id": "EmKO2aP7FnRV",
        "outputId": "b54cb8fc-0cb1-4c3c-f58c-9adc6103b80a"
      },
      "outputs": [
        {
          "data": {
            "text/plain": [
              "11"
            ]
          },
          "execution_count": 24,
          "metadata": {},
          "output_type": "execute_result"
        }
      ],
      "source": [
        "# The function len returns the number of characters in a given string\n",
        "len('Hello world')"
      ]
    },
    {
      "cell_type": "markdown",
      "metadata": {
        "id": "ty2THaFwFnRa"
      },
      "source": [
        "### Useful methods\n",
        "\n",
        "\n",
        "\n",
        "\n"
      ]
    },
    {
      "cell_type": "code",
      "execution_count": null,
      "metadata": {
        "colab": {
          "base_uri": "https://localhost:8080/",
          "height": 35
        },
        "id": "Xg19w6nLFnRa",
        "outputId": "a246f411-10fd-462a-a967-f4079ec76058"
      },
      "outputs": [
        {
          "data": {
            "application/vnd.google.colaboratory.intrinsic+json": {
              "type": "string"
            },
            "text/plain": [
              "'hello world'"
            ]
          },
          "execution_count": 27,
          "metadata": {},
          "output_type": "execute_result"
        }
      ],
      "source": [
        "# .lower(): writes everything in lowercase\n",
        "'HELLO WorlD'.lower()"
      ]
    },
    {
      "cell_type": "code",
      "execution_count": 8,
      "metadata": {
        "colab": {
          "base_uri": "https://localhost:8080/",
          "height": 35
        },
        "id": "jfqfoB3AFnRa",
        "outputId": "5a8d8623-527e-455b-c900-577db930a1f9"
      },
      "outputs": [
        {
          "data": {
            "text/plain": [
              "'HELLO WORLD'"
            ]
          },
          "execution_count": 8,
          "metadata": {},
          "output_type": "execute_result"
        }
      ],
      "source": [
        "# .upper(): writes everything in uppercase\n",
        "'Hello WorlD'.upper()"
      ]
    },
    {
      "cell_type": "code",
      "execution_count": null,
      "metadata": {
        "colab": {
          "base_uri": "https://localhost:8080/",
          "height": 35
        },
        "id": "FIEuP9N-FnRb",
        "outputId": "a8533eba-9552-43fa-9c58-ac7861ca0ac0"
      },
      "outputs": [
        {
          "data": {
            "application/vnd.google.colaboratory.intrinsic+json": {
              "type": "string"
            },
            "text/plain": [
              "'Hello world'"
            ]
          },
          "execution_count": 29,
          "metadata": {},
          "output_type": "execute_result"
        }
      ],
      "source": [
        "# .capitalize(): 1st letter uppercase and the rest is lowercase.\n",
        "'heLLo WOrld'.capitalize()"
      ]
    },
    {
      "cell_type": "code",
      "execution_count": null,
      "metadata": {
        "colab": {
          "base_uri": "https://localhost:8080/"
        },
        "id": "7r5CnOFpFnS5",
        "outputId": "c79f5c74-ab74-49f2-be48-22639e3ee143"
      },
      "outputs": [
        {
          "data": {
            "text/plain": [
              "0"
            ]
          },
          "execution_count": 34,
          "metadata": {},
          "output_type": "execute_result"
        }
      ],
      "source": [
        "# .count(word): counts the occurancies of a given word\n",
        "'hello world, hello EPSI'.count('1')"
      ]
    },
    {
      "cell_type": "code",
      "execution_count": null,
      "metadata": {
        "colab": {
          "base_uri": "https://localhost:8080/"
        },
        "id": "5S-mC1BgFnS6",
        "outputId": "680300dc-5e43-442c-92c8-03e8a59d597d"
      },
      "outputs": [
        {
          "data": {
            "text/plain": [
              "-1"
            ]
          },
          "execution_count": 36,
          "metadata": {},
          "output_type": "execute_result"
        }
      ],
      "source": [
        "# .find('x'): returns the lowest index where a given substring is found (-1 if not found)\n",
        "'hello world'.find('3')"
      ]
    },
    {
      "cell_type": "code",
      "execution_count": null,
      "metadata": {
        "colab": {
          "base_uri": "https://localhost:8080/"
        },
        "id": "VCYVnExeFnTB",
        "outputId": "411a76bb-c0cf-4e10-9319-eddfa3fdfd78"
      },
      "outputs": [
        {
          "data": {
            "text/plain": [
              "-1"
            ]
          },
          "execution_count": 37,
          "metadata": {},
          "output_type": "execute_result"
        }
      ],
      "source": [
        "'hello world'.find('i')"
      ]
    },
    {
      "cell_type": "code",
      "execution_count": null,
      "metadata": {
        "colab": {
          "base_uri": "https://localhost:8080/"
        },
        "id": "hjXYSc7cFnTE",
        "outputId": "848f8b69-f80d-4def-e215-0041d15995d9"
      },
      "outputs": [
        {
          "data": {
            "text/plain": [
              "2"
            ]
          },
          "execution_count": 38,
          "metadata": {},
          "output_type": "execute_result"
        }
      ],
      "source": [
        "# .index('x'): same idea but returns Error if not found\n",
        "'hello world'.index('l')"
      ]
    },
    {
      "cell_type": "code",
      "execution_count": null,
      "metadata": {
        "colab": {
          "base_uri": "https://localhost:8080/",
          "height": 169
        },
        "id": "bMo_nTf-FnTE",
        "outputId": "38710bae-eafa-445e-9c4c-e6222fc07ad6"
      },
      "outputs": [
        {
          "ename": "ValueError",
          "evalue": "ignored",
          "output_type": "error",
          "traceback": [
            "\u001b[0;31m---------------------------------------------------------------------------\u001b[0m",
            "\u001b[0;31mValueError\u001b[0m                                Traceback (most recent call last)",
            "\u001b[0;32m<ipython-input-39-a86c1b03a577>\u001b[0m in \u001b[0;36m<module>\u001b[0;34m\u001b[0m\n\u001b[0;32m----> 1\u001b[0;31m \u001b[0;34m'hello world'\u001b[0m\u001b[0;34m.\u001b[0m\u001b[0mindex\u001b[0m\u001b[0;34m(\u001b[0m\u001b[0;34m'a'\u001b[0m\u001b[0;34m)\u001b[0m\u001b[0;34m\u001b[0m\u001b[0;34m\u001b[0m\u001b[0m\n\u001b[0m",
            "\u001b[0;31mValueError\u001b[0m: substring not found"
          ]
        }
      ],
      "source": [
        "'hello world'.index('a')"
      ]
    },
    {
      "cell_type": "code",
      "execution_count": null,
      "metadata": {
        "colab": {
          "base_uri": "https://localhost:8080/"
        },
        "id": "ZMi6a79aFnTE",
        "outputId": "5098ed4f-71bd-4c67-a6ad-d844914c0398"
      },
      "outputs": [
        {
          "data": {
            "text/plain": [
              "False"
            ]
          },
          "execution_count": 41,
          "metadata": {},
          "output_type": "execute_result"
        }
      ],
      "source": [
        "# in : returns thue if a string contains another string\n",
        "\"world\" in \"hello world\""
      ]
    },
    {
      "cell_type": "code",
      "execution_count": null,
      "metadata": {
        "colab": {
          "base_uri": "https://localhost:8080/",
          "height": 35
        },
        "id": "SeX5oUQyFnTF",
        "outputId": "5306de64-4044-492c-aba7-4f4b04ba8525"
      },
      "outputs": [
        {
          "data": {
            "application/vnd.google.colaboratory.intrinsic+json": {
              "type": "string"
            },
            "text/plain": [
              "'Mary loves python rr toto '"
            ]
          },
          "execution_count": 45,
          "metadata": {},
          "output_type": "execute_result"
        }
      ],
      "source": [
        "# .format() : replace the {} in the string by what you want. Useful to write strings with variable arguments.\n",
        "'{} loves {} {} {} '.format('Mary', 'python', 'rr', 'toto')"
      ]
    },
    {
      "cell_type": "markdown",
      "metadata": {
        "id": "I9_1vAZmFnTG"
      },
      "source": [
        "More ressources on string formatting https://pyformat.info/."
      ]
    },
    {
      "cell_type": "markdown",
      "metadata": {
        "id": "SRrGQ4LsFnTN"
      },
      "source": [
        "## I.3. Booleans and comparison/logical operators"
      ]
    },
    {
      "cell_type": "markdown",
      "metadata": {
        "id": "X-fYQRjkFnTZ"
      },
      "source": [
        "**`bool`** : represents values of True or False. It is useful with comparison and logical operators."
      ]
    },
    {
      "cell_type": "markdown",
      "metadata": {
        "id": "wnzVc2_cFnTZ"
      },
      "source": [
        "### Comparison operators : `==`  `!=` `<` `>` `<=` `>=`"
      ]
    },
    {
      "cell_type": "code",
      "execution_count": null,
      "metadata": {
        "colab": {
          "base_uri": "https://localhost:8080/"
        },
        "id": "FLeu4_opFnTZ",
        "outputId": "8442ab83-93cd-4aae-d383-d10bf15f65f8"
      },
      "outputs": [
        {
          "data": {
            "text/plain": [
              "True"
            ]
          },
          "execution_count": 46,
          "metadata": {},
          "output_type": "execute_result"
        }
      ],
      "source": [
        "# >, more than\n",
        "# >=, more or equal to\n",
        "6 > 5"
      ]
    },
    {
      "cell_type": "code",
      "execution_count": null,
      "metadata": {
        "colab": {
          "base_uri": "https://localhost:8080/"
        },
        "id": "E1w5rmB2FnTb",
        "outputId": "06a6e54b-363c-487c-89d0-02b0fcaf2b03"
      },
      "outputs": [
        {
          "data": {
            "text/plain": [
              "False"
            ]
          },
          "execution_count": 47,
          "metadata": {},
          "output_type": "execute_result"
        }
      ],
      "source": [
        "# <, less than\n",
        "# <=, less or equal to\n",
        "6 <= 5"
      ]
    },
    {
      "cell_type": "code",
      "execution_count": null,
      "metadata": {
        "colab": {
          "base_uri": "https://localhost:8080/"
        },
        "id": "TANt8BJYFnTf",
        "outputId": "4a3f48e8-d3aa-4c6a-b290-5a43d8dd0162"
      },
      "outputs": [
        {
          "data": {
            "text/plain": [
              "True"
            ]
          },
          "execution_count": 48,
          "metadata": {},
          "output_type": "execute_result"
        }
      ],
      "source": [
        "# ==, equal to (be careful, '=' is used to assign variable you can't use it for equality)\n",
        "# !=, not equal to\n",
        "10 != 2"
      ]
    },
    {
      "cell_type": "markdown",
      "metadata": {
        "id": "C-P54bNmFnTu"
      },
      "source": [
        "### Logical operators : `and` `or` `!=` (xor)  `!`(not)"
      ]
    },
    {
      "cell_type": "markdown",
      "metadata": {
        "id": "ho271v6dFnTw"
      },
      "source": [
        "| A | B |A and B | A or B | A != B | !A\n",
        "| :-: | :-: | :-: | :-: | :-: | :-:\n",
        "| 0 | 0 | 0 | 0 | 0 | 1\n",
        "| 1 | 0 | 0 | 1 | 1 | 0\n",
        "| 0 | 1 | 0 | 1 | 1 | 1\n",
        "| 1 | 1 | 1 | 1 | 0 | 0"
      ]
    },
    {
      "cell_type": "code",
      "execution_count": null,
      "metadata": {
        "id": "99IzRaAlFnT2"
      },
      "outputs": [],
      "source": [
        "x = 10\n",
        "y = 5\n",
        "z = 20"
      ]
    },
    {
      "cell_type": "code",
      "execution_count": 3,
      "metadata": {
        "id": "OZnVl-BcFnT7"
      },
      "outputs": [
        {
          "ename": "NameError",
          "evalue": "name 'x' is not defined",
          "output_type": "error",
          "traceback": [
            "\u001b[1;31m---------------------------------------------------------------------------\u001b[0m",
            "\u001b[1;31mNameError\u001b[0m                                 Traceback (most recent call last)",
            "\u001b[1;32md:\\SN2 EPSI COURSES\\PYTHON\\FIRSTCOURSE\\01_Data_Types_and_Data_Structures.ipynb Cell 47\u001b[0m line \u001b[0;36m2\n\u001b[0;32m      <a href='vscode-notebook-cell:/d%3A/SN2%20EPSI%20COURSES/PYTHON/FIRSTCOURSE/01_Data_Types_and_Data_Structures.ipynb#X64sZmlsZQ%3D%3D?line=0'>1</a>\u001b[0m \u001b[39m# and: both sides are True\u001b[39;00m\n\u001b[1;32m----> <a href='vscode-notebook-cell:/d%3A/SN2%20EPSI%20COURSES/PYTHON/FIRSTCOURSE/01_Data_Types_and_Data_Structures.ipynb#X64sZmlsZQ%3D%3D?line=1'>2</a>\u001b[0m x \u001b[39m>\u001b[39m y \u001b[39mand\u001b[39;00m x \u001b[39m>\u001b[39m z\n",
            "\u001b[1;31mNameError\u001b[0m: name 'x' is not defined"
          ]
        }
      ],
      "source": [
        "# and: both sides are True\n",
        "x > y and x > z"
      ]
    },
    {
      "cell_type": "code",
      "execution_count": 4,
      "metadata": {
        "id": "MvoA59GMFnT7"
      },
      "outputs": [
        {
          "ename": "NameError",
          "evalue": "name 'x' is not defined",
          "output_type": "error",
          "traceback": [
            "\u001b[1;31m---------------------------------------------------------------------------\u001b[0m",
            "\u001b[1;31mNameError\u001b[0m                                 Traceback (most recent call last)",
            "\u001b[1;32md:\\SN2 EPSI COURSES\\PYTHON\\FIRSTCOURSE\\01_Data_Types_and_Data_Structures.ipynb Cell 48\u001b[0m line \u001b[0;36m2\n\u001b[0;32m      <a href='vscode-notebook-cell:/d%3A/SN2%20EPSI%20COURSES/PYTHON/FIRSTCOURSE/01_Data_Types_and_Data_Structures.ipynb#X65sZmlsZQ%3D%3D?line=0'>1</a>\u001b[0m \u001b[39m# or: at least one side is true\u001b[39;00m\n\u001b[1;32m----> <a href='vscode-notebook-cell:/d%3A/SN2%20EPSI%20COURSES/PYTHON/FIRSTCOURSE/01_Data_Types_and_Data_Structures.ipynb#X65sZmlsZQ%3D%3D?line=1'>2</a>\u001b[0m x \u001b[39m>\u001b[39m y \u001b[39mor\u001b[39;00m x \u001b[39m>\u001b[39m z\n",
            "\u001b[1;31mNameError\u001b[0m: name 'x' is not defined"
          ]
        }
      ],
      "source": [
        "# or: at least one side is true\n",
        "x > y or x > z"
      ]
    },
    {
      "cell_type": "code",
      "execution_count": null,
      "metadata": {
        "id": "OrQL1m1zFnT8"
      },
      "outputs": [],
      "source": [
        "# not: inverse of a boolean type\n",
        "x > y"
      ]
    },
    {
      "cell_type": "code",
      "execution_count": null,
      "metadata": {
        "id": "ZBg3pUE_FnT8"
      },
      "outputs": [],
      "source": [
        "not x > y"
      ]
    },
    {
      "cell_type": "code",
      "execution_count": null,
      "metadata": {
        "id": "Wio8RcqYFnUB"
      },
      "outputs": [],
      "source": [
        "# Some booleans can be used with string also, == compare the identity.\n",
        "'hello' == 'world'"
      ]
    },
    {
      "cell_type": "code",
      "execution_count": null,
      "metadata": {
        "id": "jebC_19NFnUI"
      },
      "outputs": [],
      "source": [
        "'hello' == 'hello'"
      ]
    },
    {
      "cell_type": "code",
      "execution_count": null,
      "metadata": {
        "id": "qvCKEKxYFnUL"
      },
      "outputs": [],
      "source": [
        "\"10\" == 10"
      ]
    },
    {
      "cell_type": "markdown",
      "metadata": {
        "id": "ZJX3WOz5FnUL"
      },
      "source": [
        "### Idendity operators : `is` and `is not`\n",
        "\n",
        "**`==`** is an equality test. It checks whether the right hand side and the left hand side are **equal** objects (but different references in memory).\n",
        "\n",
        "**`is`** is an identity test. It checks whether the right hand side and the left hand side are **the very same** object (same reference in memory)."
      ]
    },
    {
      "cell_type": "code",
      "execution_count": null,
      "metadata": {
        "colab": {
          "base_uri": "https://localhost:8080/"
        },
        "id": "GjEH4J0CFnYY",
        "outputId": "91db3b85-dd04-412d-afe9-254d6e000c51"
      },
      "outputs": [
        {
          "data": {
            "text/plain": [
              "True"
            ]
          },
          "execution_count": 49,
          "metadata": {},
          "output_type": "execute_result"
        }
      ],
      "source": [
        "0 == False"
      ]
    },
    {
      "cell_type": "code",
      "execution_count": null,
      "metadata": {
        "colab": {
          "base_uri": "https://localhost:8080/"
        },
        "id": "rCkveI7JFnYg",
        "outputId": "fa393154-b24f-4d69-dc1a-eae64eae4a49"
      },
      "outputs": [
        {
          "data": {
            "text/plain": [
              "False"
            ]
          },
          "execution_count": 50,
          "metadata": {},
          "output_type": "execute_result"
        }
      ],
      "source": [
        "0 is False"
      ]
    },
    {
      "cell_type": "code",
      "execution_count": null,
      "metadata": {
        "colab": {
          "base_uri": "https://localhost:8080/"
        },
        "id": "W4J6Lq38FnYh",
        "outputId": "40df6515-0fe8-494a-8f57-db5b2b93a1bd"
      },
      "outputs": [
        {
          "name": "stdout",
          "output_type": "stream",
          "text": [
            "0\n",
            "It's working\n"
          ]
        }
      ],
      "source": [
        "_ = 0  # or \"\"\n",
        "if _:\n",
        "    print(\"It's not working\")\n",
        "if _ is not None:\n",
        "    print(_)\n",
        "    print(\"It's working\")"
      ]
    },
    {
      "cell_type": "markdown",
      "metadata": {
        "id": "1gxJbid-FnYh"
      },
      "source": [
        "## I.4. Casting types"
      ]
    },
    {
      "cell_type": "markdown",
      "metadata": {
        "id": "EDwSC0QqFnYh"
      },
      "source": [
        "Sometimes you need to change data to another type. For example if your number are stored as strings (ex: '34'), you can't make any calculation with them."
      ]
    },
    {
      "cell_type": "markdown",
      "metadata": {
        "id": "Td3ODt1nFnYh"
      },
      "source": [
        "Use **`type()`** to get the type of an element"
      ]
    },
    {
      "cell_type": "code",
      "execution_count": null,
      "metadata": {
        "colab": {
          "base_uri": "https://localhost:8080/"
        },
        "id": "_9G9YB3SFnYi",
        "outputId": "ce132f59-ba62-486b-d5b9-dc2d807d88ff"
      },
      "outputs": [
        {
          "data": {
            "text/plain": [
              "int"
            ]
          },
          "execution_count": 55,
          "metadata": {},
          "output_type": "execute_result"
        }
      ],
      "source": [
        "type(34)"
      ]
    },
    {
      "cell_type": "code",
      "execution_count": null,
      "metadata": {
        "colab": {
          "base_uri": "https://localhost:8080/"
        },
        "id": "TRweWS99FnYi",
        "outputId": "a73c0184-c368-4f64-a278-cdea224d4969"
      },
      "outputs": [
        {
          "data": {
            "text/plain": [
              "float"
            ]
          },
          "execution_count": 56,
          "metadata": {},
          "output_type": "execute_result"
        }
      ],
      "source": [
        "type(34.0)"
      ]
    },
    {
      "cell_type": "code",
      "execution_count": null,
      "metadata": {
        "colab": {
          "base_uri": "https://localhost:8080/"
        },
        "id": "e5kpb9IiFnYi",
        "outputId": "f68ac098-ddd7-4c00-9d25-8c268b3519c0"
      },
      "outputs": [
        {
          "data": {
            "text/plain": [
              "str"
            ]
          },
          "execution_count": 57,
          "metadata": {},
          "output_type": "execute_result"
        }
      ],
      "source": [
        "type('34')"
      ]
    },
    {
      "cell_type": "code",
      "execution_count": null,
      "metadata": {
        "colab": {
          "base_uri": "https://localhost:8080/"
        },
        "id": "eaxfiAXmFnYi",
        "outputId": "55e55db3-a777-4d25-ec3f-5f5791fa9d92"
      },
      "outputs": [
        {
          "data": {
            "text/plain": [
              "bool"
            ]
          },
          "execution_count": 58,
          "metadata": {},
          "output_type": "execute_result"
        }
      ],
      "source": [
        "type(2 == 2)"
      ]
    },
    {
      "cell_type": "markdown",
      "metadata": {
        "id": "qI-63TDHFnYj"
      },
      "source": [
        "Use **`isinstance()`** to check the type of an object"
      ]
    },
    {
      "cell_type": "code",
      "execution_count": null,
      "metadata": {
        "colab": {
          "base_uri": "https://localhost:8080/"
        },
        "id": "V-HCcASpFnYj",
        "outputId": "6d9e7a1f-5838-4ab9-adad-6ca838cfb8d9"
      },
      "outputs": [
        {
          "data": {
            "text/plain": [
              "True"
            ]
          },
          "execution_count": 59,
          "metadata": {},
          "output_type": "execute_result"
        }
      ],
      "source": [
        "isinstance(12, int)"
      ]
    },
    {
      "cell_type": "code",
      "execution_count": null,
      "metadata": {
        "colab": {
          "base_uri": "https://localhost:8080/"
        },
        "id": "w5ldZXvLFnYj",
        "outputId": "82417efd-1e9d-49f5-b10f-cbe86f5aa749"
      },
      "outputs": [
        {
          "data": {
            "text/plain": [
              "True"
            ]
          },
          "execution_count": 61,
          "metadata": {},
          "output_type": "execute_result"
        }
      ],
      "source": [
        "isinstance(12.5, float)"
      ]
    },
    {
      "cell_type": "code",
      "execution_count": null,
      "metadata": {
        "colab": {
          "base_uri": "https://localhost:8080/"
        },
        "id": "wMQ81wNRFnYj",
        "outputId": "104c14c8-2741-4b46-9287-2ff979a4437c"
      },
      "outputs": [
        {
          "data": {
            "text/plain": [
              "True"
            ]
          },
          "execution_count": 63,
          "metadata": {},
          "output_type": "execute_result"
        }
      ],
      "source": [
        "isinstance(\"12\", str)"
      ]
    },
    {
      "cell_type": "markdown",
      "metadata": {
        "id": "yZ88qoqyFnYj"
      },
      "source": [
        "You can **recast** an element to another type : just pass the element as an argument of the type you want."
      ]
    },
    {
      "cell_type": "code",
      "execution_count": null,
      "metadata": {
        "colab": {
          "base_uri": "https://localhost:8080/"
        },
        "id": "ZuDSxiySFnYj",
        "outputId": "b9a6ae6a-fbb2-453c-85fc-954efab51418"
      },
      "outputs": [
        {
          "data": {
            "text/plain": [
              "int"
            ]
          },
          "execution_count": 64,
          "metadata": {},
          "output_type": "execute_result"
        }
      ],
      "source": [
        "type(int(34.0))"
      ]
    },
    {
      "cell_type": "code",
      "execution_count": null,
      "metadata": {
        "colab": {
          "base_uri": "https://localhost:8080/"
        },
        "id": "K-X8MyYPP7ey",
        "outputId": "4fd47ebb-5bdc-4161-ac2a-148c7c24898b"
      },
      "outputs": [
        {
          "data": {
            "text/plain": [
              "34"
            ]
          },
          "execution_count": 65,
          "metadata": {},
          "output_type": "execute_result"
        }
      ],
      "source": [
        "int(34.0)"
      ]
    },
    {
      "cell_type": "code",
      "execution_count": null,
      "metadata": {
        "colab": {
          "base_uri": "https://localhost:8080/"
        },
        "id": "nBVyXBMnFnYj",
        "outputId": "a291c497-a9a1-471a-d51c-ebdaa9c79ae5"
      },
      "outputs": [
        {
          "data": {
            "text/plain": [
              "False"
            ]
          },
          "execution_count": 66,
          "metadata": {},
          "output_type": "execute_result"
        }
      ],
      "source": [
        "# Be careful with booleans\n",
        "bool(0)"
      ]
    },
    {
      "cell_type": "code",
      "execution_count": null,
      "metadata": {
        "colab": {
          "base_uri": "https://localhost:8080/"
        },
        "id": "jKFOocFGFnYk",
        "outputId": "c7bb3b91-1481-4bc6-b89e-06a2656a3eee"
      },
      "outputs": [
        {
          "data": {
            "text/plain": [
              "True"
            ]
          },
          "execution_count": 67,
          "metadata": {},
          "output_type": "execute_result"
        }
      ],
      "source": [
        "bool(1)"
      ]
    },
    {
      "cell_type": "code",
      "execution_count": null,
      "metadata": {
        "colab": {
          "base_uri": "https://localhost:8080/"
        },
        "id": "DK_gZ1aYFnYk",
        "outputId": "a4275c0d-7f87-4bbf-df25-151ca4f00a20"
      },
      "outputs": [
        {
          "data": {
            "text/plain": [
              "True"
            ]
          },
          "execution_count": 68,
          "metadata": {},
          "output_type": "execute_result"
        }
      ],
      "source": [
        "bool(-127)"
      ]
    },
    {
      "cell_type": "markdown",
      "metadata": {
        "id": "52xR8I3eFnYk"
      },
      "source": [
        "## I.5. Variables"
      ]
    },
    {
      "cell_type": "markdown",
      "metadata": {
        "id": "1jSmBV8QFnYk"
      },
      "source": [
        "When you want to store data, you can assign it to variables with **`=`**"
      ]
    },
    {
      "cell_type": "code",
      "execution_count": null,
      "metadata": {
        "id": "sB2Cfv7hFnYk"
      },
      "outputs": [],
      "source": [
        "# Simple assignment\n",
        "x = 200"
      ]
    },
    {
      "cell_type": "code",
      "execution_count": null,
      "metadata": {
        "colab": {
          "base_uri": "https://localhost:8080/"
        },
        "id": "RKzvNuy3FnYk",
        "outputId": "ebe1cc81-5317-4902-a794-e130e93136a4"
      },
      "outputs": [
        {
          "data": {
            "text/plain": [
              "300"
            ]
          },
          "execution_count": 70,
          "metadata": {},
          "output_type": "execute_result"
        }
      ],
      "source": [
        "# Once your variable is assigned, you can reuse it\n",
        "100 + x"
      ]
    },
    {
      "cell_type": "code",
      "execution_count": null,
      "metadata": {
        "id": "By5A43IpFnYk"
      },
      "outputs": [],
      "source": [
        "# You can also reassign it using '=' again.\n",
        "# You need to re-run the calculation after changing the variable if you want this change to take account.\n",
        "x = x - 100"
      ]
    },
    {
      "cell_type": "code",
      "execution_count": null,
      "metadata": {
        "colab": {
          "base_uri": "https://localhost:8080/"
        },
        "id": "1nFPX-PLFnYl",
        "outputId": "3fa2ba2b-77e6-4eaf-ac9a-329b73367fea"
      },
      "outputs": [
        {
          "name": "stdout",
          "output_type": "stream",
          "text": [
            "A melon weights 5kg and you buy two, so the total weight is 10kg\n",
            "A melon weights 5kg and you buy two, so the total weight is 10kg\n"
          ]
        },
        {
          "data": {
            "text/plain": [
              "3"
            ]
          },
          "execution_count": 77,
          "metadata": {},
          "output_type": "execute_result"
        }
      ],
      "source": [
        "# You can define variables and use .format() to pass them as string arguments\n",
        "watermelon = 5\n",
        "weight = 5 * 2\n",
        "print('A melon weights {}kg and you buy two, so the total weight is {}kg'.format(watermelon, weight))\n",
        "# New method : fstrings\n",
        "print(f'A melon weights {watermelon}kg and you buy two, so the total weight is {weight}kg')\n",
        "3"
      ]
    },
    {
      "cell_type": "markdown",
      "metadata": {
        "id": "oseU1rNSFnYl"
      },
      "source": [
        "### I/O : `print()` and `input()`"
      ]
    },
    {
      "cell_type": "code",
      "execution_count": null,
      "metadata": {
        "colab": {
          "base_uri": "https://localhost:8080/"
        },
        "id": "95AeLhwrFnYl",
        "outputId": "d53dbb71-8adf-414e-d7f1-133a976ee94d"
      },
      "outputs": [
        {
          "name": "stdout",
          "output_type": "stream",
          "text": [
            "What's your first name ?toto\n"
          ]
        }
      ],
      "source": [
        "# input\n",
        "first_name = input(\"What's your first name ?\")"
      ]
    },
    {
      "cell_type": "code",
      "execution_count": null,
      "metadata": {
        "colab": {
          "base_uri": "https://localhost:8080/"
        },
        "id": "43wmaWX2FnYl",
        "outputId": "a90cc38a-3e57-4e7a-f01f-86ff5472a72b"
      },
      "outputs": [
        {
          "name": "stdout",
          "output_type": "stream",
          "text": [
            "toto\n"
          ]
        }
      ],
      "source": [
        "# output\n",
        "print(first_name)"
      ]
    },
    {
      "cell_type": "markdown",
      "metadata": {
        "id": "VA1GhIAFFnYl"
      },
      "source": [
        "---"
      ]
    },
    {
      "cell_type": "markdown",
      "metadata": {
        "id": "wZioKRk4FnYl"
      },
      "source": [
        "# II. Data structures"
      ]
    },
    {
      "cell_type": "markdown",
      "metadata": {
        "id": "T9J0rX-iFnYl"
      },
      "source": [
        "Data structures are containers with multiple elements. There are 4 data structures in Python.\n",
        "\n",
        "| &nbsp; | List | Tuple | Set | Dict\n",
        "| ----- | :---: | :---: | :---: | :---:\n",
        "| **Symbol** | [,] | (,) | {,} | {k: v,}\n",
        "| **Type** | ordered | ordered | unordered | unordered\n",
        "| **Access** | index | index | value | key\n",
        "| **Property** | mutable | immuable | unique values immuable | keys/values\n",
        "\n",
        "Everything is detailed in the doc : https://docs.python.org/3/tutorial/datastructures.html"
      ]
    },
    {
      "cell_type": "markdown",
      "metadata": {
        "id": "cerXmbrMFnYm"
      },
      "source": [
        " ## II.1. Ordered sequences\n",
        "\n",
        "### II.1.1. `list` are mutable ordered sequences of elements\n",
        "\n",
        "- a **`list`** is defined with square brackets [ ] and elements are separated by coma.\n",
        "- each element is identified by its index (be careful : the first index is 0 not 1)\n",
        "- a **`list`** can contain any other data type (including lists)\n",
        "- a **`list`** can mix data types (but it is **not recommanded**)\n",
        "- **`string`** are sequences"
      ]
    },
    {
      "cell_type": "code",
      "execution_count": null,
      "metadata": {
        "id": "TKAOAy82FnYm"
      },
      "outputs": [],
      "source": [
        "# Examples\n",
        "numbers = [1, 2, 3, 5, 4, 6, 5, 5, 6, 7]\n",
        "strings = ['a', 'b', 'd', 'c']\n",
        "mixed = ['a', 1, 3, 4.5, True]"
      ]
    },
    {
      "cell_type": "code",
      "execution_count": null,
      "metadata": {
        "colab": {
          "base_uri": "https://localhost:8080/"
        },
        "id": "7XoLfwLeFnYm",
        "outputId": "10d93760-a347-49f2-c902-b1701cc5ea66",
        "scrolled": true
      },
      "outputs": [
        {
          "data": {
            "text/plain": [
              "[1, 2, 3, 5, 4, 6, 5, 5, 6, 7, 'a', 'b', 'd', 'c']"
            ]
          },
          "execution_count": 3,
          "metadata": {},
          "output_type": "execute_result"
        }
      ],
      "source": [
        "# Concatenation\n",
        "numbers + strings"
      ]
    },
    {
      "cell_type": "code",
      "execution_count": null,
      "metadata": {
        "colab": {
          "base_uri": "https://localhost:8080/"
        },
        "id": "zwIEUcCHFnYm",
        "outputId": "fe51fa3a-79d2-4458-fb6c-9b24e622f388"
      },
      "outputs": [
        {
          "name": "stdout",
          "output_type": "stream",
          "text": [
            "False\n",
            "True\n"
          ]
        },
        {
          "data": {
            "text/plain": [
              "True"
            ]
          },
          "execution_count": 7,
          "metadata": {},
          "output_type": "execute_result"
        }
      ],
      "source": [
        "# Contains\n",
        "# in: evaluates if an object is in the list, returns True or False\n",
        "print(8 in numbers)\n",
        "# not in: same in negative\n",
        "print(8 not in numbers)\n",
        "# it doesn't work with subsets\n",
        "[3, 5] in numbers"
      ]
    },
    {
      "cell_type": "markdown",
      "metadata": {
        "id": "w1p9fACVFnYm"
      },
      "source": [
        "**Subsetting**"
      ]
    },
    {
      "cell_type": "code",
      "execution_count": null,
      "metadata": {
        "colab": {
          "base_uri": "https://localhost:8080/"
        },
        "id": "9c34xoSQFnYn",
        "outputId": "dcb4cb49-2466-40c3-a327-b7793a1a8d5e"
      },
      "outputs": [
        {
          "name": "stdout",
          "output_type": "stream",
          "text": [
            "2\n"
          ]
        },
        {
          "data": {
            "text/plain": [
              "1"
            ]
          },
          "execution_count": 11,
          "metadata": {},
          "output_type": "execute_result"
        }
      ],
      "source": [
        "# Indexing : extract a specific element with its index\n",
        "print(numbers[1])\n",
        "# First element\n",
        "numbers[0]\n"
      ]
    },
    {
      "cell_type": "code",
      "execution_count": null,
      "metadata": {
        "id": "rQ26STz-ckSk"
      },
      "outputs": [],
      "source": [
        "# Last element\n",
        "numbers[-1]"
      ]
    },
    {
      "cell_type": "code",
      "execution_count": null,
      "metadata": {
        "colab": {
          "base_uri": "https://localhost:8080/"
        },
        "id": "OhG9FZgIFnYn",
        "outputId": "8e8b1f7b-909a-4731-ce8d-385526ca34b8"
      },
      "outputs": [
        {
          "data": {
            "text/plain": [
              "[5, 4, 6, 5, 5, 6, 7]"
            ]
          },
          "execution_count": 12,
          "metadata": {},
          "output_type": "execute_result"
        }
      ],
      "source": [
        "# Slicing : extract a sequence\n",
        "# (be careful : the upper bound is exclusive so you need to write the index after the element you want).\n",
        "numbers[3:6]\n",
        "# From the beginning\n",
        "numbers[:3]\n",
        "# To the end\n",
        "numbers[3:]"
      ]
    },
    {
      "cell_type": "markdown",
      "metadata": {
        "id": "_s_LLrBHFnYn"
      },
      "source": [
        "**Mutability**"
      ]
    },
    {
      "cell_type": "code",
      "execution_count": null,
      "metadata": {
        "colab": {
          "base_uri": "https://localhost:8080/"
        },
        "id": "WbHtUdlXFnYn",
        "outputId": "48ad880c-2305-4920-9bbd-31e46e4d396d"
      },
      "outputs": [
        {
          "data": {
            "text/plain": [
              "['a', 'z', 'd', 'c']"
            ]
          },
          "execution_count": 19,
          "metadata": {},
          "output_type": "execute_result"
        }
      ],
      "source": [
        "strings[1] = 'z'\n",
        "strings"
      ]
    },
    {
      "cell_type": "markdown",
      "metadata": {
        "id": "7Boxj7FEFnYn"
      },
      "source": [
        "**Useful methods** (you can find a lot more in the doc)"
      ]
    },
    {
      "cell_type": "code",
      "execution_count": null,
      "metadata": {
        "colab": {
          "base_uri": "https://localhost:8080/"
        },
        "id": "V_QUX4QgFnYn",
        "outputId": "11f3da5b-f6a2-467e-b180-036952d63d0d"
      },
      "outputs": [
        {
          "data": {
            "text/plain": [
              "[1, 2, 3, 5, 4, 6, 5, 5, 6, 7]"
            ]
          },
          "execution_count": 16,
          "metadata": {},
          "output_type": "execute_result"
        }
      ],
      "source": [
        "# len: counts the number of elements in the list\n",
        "len(numbers)\n",
        "numbers"
      ]
    },
    {
      "cell_type": "code",
      "execution_count": null,
      "metadata": {
        "colab": {
          "base_uri": "https://localhost:8080/"
        },
        "id": "k3yKF55-d6-E",
        "outputId": "2ae26851-484b-4b57-d776-7f0a717eb40b"
      },
      "outputs": [
        {
          "data": {
            "text/plain": [
              "7"
            ]
          },
          "execution_count": 17,
          "metadata": {},
          "output_type": "execute_result"
        }
      ],
      "source": [
        "max(numbers)"
      ]
    },
    {
      "cell_type": "code",
      "execution_count": null,
      "metadata": {
        "colab": {
          "base_uri": "https://localhost:8080/",
          "height": 35
        },
        "id": "USYAW83HFnYn",
        "outputId": "2aa9e762-8d14-4829-95fc-b1a2da940b22"
      },
      "outputs": [
        {
          "data": {
            "application/vnd.google.colaboratory.intrinsic+json": {
              "type": "string"
            },
            "text/plain": [
              "'z'"
            ]
          },
          "execution_count": 20,
          "metadata": {},
          "output_type": "execute_result"
        }
      ],
      "source": [
        "# max(): indicates the greatest element of the list\n",
        "max(strings)"
      ]
    },
    {
      "cell_type": "code",
      "execution_count": null,
      "metadata": {
        "colab": {
          "base_uri": "https://localhost:8080/"
        },
        "id": "J7bSYe_fFnYo",
        "outputId": "150a3fad-883b-4336-c3a3-4637d7149960"
      },
      "outputs": [
        {
          "data": {
            "text/plain": [
              "1"
            ]
          },
          "execution_count": 91,
          "metadata": {},
          "output_type": "execute_result"
        }
      ],
      "source": [
        "# min(): indicates the smallest element\n",
        "min(numbers)"
      ]
    },
    {
      "cell_type": "code",
      "execution_count": null,
      "metadata": {
        "colab": {
          "base_uri": "https://localhost:8080/"
        },
        "id": "I_d_44cLFnYo",
        "outputId": "67e58675-2a6b-497f-f4c8-4a47738cbecd"
      },
      "outputs": [
        {
          "data": {
            "text/plain": [
              "9"
            ]
          },
          "execution_count": 92,
          "metadata": {},
          "output_type": "execute_result"
        }
      ],
      "source": [
        "# .index(): retuns the index of a givent element\n",
        "numbers.index(3)\n",
        "# you can also find the index of element you have indication about\n",
        "numbers.index(max(numbers))"
      ]
    },
    {
      "cell_type": "code",
      "execution_count": null,
      "metadata": {
        "colab": {
          "base_uri": "https://localhost:8080/"
        },
        "id": "rthTEPk2FnYo",
        "outputId": "b6f8d578-c2db-4560-8e60-9d17209a0834"
      },
      "outputs": [
        {
          "data": {
            "text/plain": [
              "[7, 6, 6, 5, 5, 5, 4, 3, 2, 1]"
            ]
          },
          "execution_count": 24,
          "metadata": {},
          "output_type": "execute_result"
        }
      ],
      "source": [
        "# sorted(): returns a copy of the list sorted from smallest to greatest element\n",
        "# reverse=True : sorts in a reverse order.\n",
        "sorted_numbers = sorted(numbers, reverse=False)\n",
        "sorted_numbers"
      ]
    },
    {
      "cell_type": "code",
      "execution_count": null,
      "metadata": {
        "id": "eQ0vTb-9FnYo"
      },
      "outputs": [],
      "source": [
        "# .sort(): modifies the order of the list from smallest to greatest element\n",
        "numbers.sort()"
      ]
    },
    {
      "cell_type": "code",
      "execution_count": null,
      "metadata": {
        "colab": {
          "base_uri": "https://localhost:8080/",
          "height": 35
        },
        "id": "OsmMOgJtFnYp",
        "outputId": "6a492313-bdfb-41d4-dd95-884b9ffc7b86"
      },
      "outputs": [
        {
          "data": {
            "application/vnd.google.colaboratory.intrinsic+json": {
              "type": "string"
            },
            "text/plain": [
              "'a$$$b$$$c$$$d'"
            ]
          },
          "execution_count": 28,
          "metadata": {},
          "output_type": "execute_result"
        }
      ],
      "source": [
        "# separator.join(): returns the list with the elements joined by the given separator\n",
        "alphabet = ['a', 'b', 'c', 'd']\n",
        "'$$$'.join(alphabet)"
      ]
    },
    {
      "cell_type": "code",
      "execution_count": null,
      "metadata": {
        "colab": {
          "base_uri": "https://localhost:8080/"
        },
        "id": "DFgVDkHoFnYp",
        "outputId": "efadc53f-57db-4c26-ca37-0c1223702a12"
      },
      "outputs": [
        {
          "name": "stdout",
          "output_type": "stream",
          "text": [
            "[1, 2, 3, 5, 4, 6, 5, 5, 6, 7]\n",
            "[1, 2, 3, 5, 4, 6, 5, 5, 6, 7, 8]\n"
          ]
        }
      ],
      "source": [
        "# .append(): adds elements to the end of the list\n",
        "print(numbers)\n",
        "\n",
        "numbers.append(8)\n",
        "print(numbers)\n"
      ]
    },
    {
      "cell_type": "code",
      "execution_count": null,
      "metadata": {
        "id": "szx07X0xfpjF"
      },
      "outputs": [],
      "source": [
        "# Be careful : if you use it with another list, i will insert a list in a list\n",
        "numbers.append([9, 10, 11])"
      ]
    },
    {
      "cell_type": "code",
      "execution_count": null,
      "metadata": {
        "colab": {
          "base_uri": "https://localhost:8080/"
        },
        "id": "G_EG0VwYf8Ky",
        "outputId": "5e92118f-5434-48c5-f327-03ac7ee68c7d"
      },
      "outputs": [
        {
          "name": "stdout",
          "output_type": "stream",
          "text": [
            "[1, 2, 3, 5, 4, 6, 5, 5, 6, 7, 8, [9, 10, 11]]\n"
          ]
        }
      ],
      "source": [
        "print(numbers)"
      ]
    },
    {
      "cell_type": "code",
      "execution_count": null,
      "metadata": {
        "id": "1ow9fN4KFnYp"
      },
      "outputs": [],
      "source": [
        "# .extend(): incorporates elements from another list to the list\n",
        "numbers.extend([15, 16, 17])"
      ]
    },
    {
      "cell_type": "code",
      "execution_count": null,
      "metadata": {
        "colab": {
          "base_uri": "https://localhost:8080/"
        },
        "id": "2tEqwVSNFnYp",
        "outputId": "e14426fb-aff0-4f04-fd7e-067b64004b18"
      },
      "outputs": [
        {
          "data": {
            "text/plain": [
              "['this is an example']"
            ]
          },
          "execution_count": 38,
          "metadata": {},
          "output_type": "execute_result"
        }
      ],
      "source": [
        "# use str.split() to create a list from a string\n",
        "\"this is an example\".split('-')"
      ]
    },
    {
      "cell_type": "markdown",
      "metadata": {
        "id": "ObA4s6vgFnYq"
      },
      "source": [
        "### II.1.2. `tuple`are immuable ordered sequences of elements\n",
        "\n",
        "- a **`tuple`** is defined between parenthesis and elements are separeted by comas\n",
        "- you can use it with 2 or more elements\n",
        "- you can extract an element or slice it like a list\n",
        "- you cannot change the values of elements"
      ]
    },
    {
      "cell_type": "code",
      "execution_count": null,
      "metadata": {
        "id": "fET7ZaqsFnYq"
      },
      "outputs": [],
      "source": [
        "# Example\n",
        "my_tuple = (1, 3 , 4, 'a', 'c', 2)"
      ]
    },
    {
      "cell_type": "code",
      "execution_count": null,
      "metadata": {
        "id": "ulAuv-eBFnYq"
      },
      "outputs": [],
      "source": [
        "# Tuple unpacking\n",
        "length, width = 100, 200"
      ]
    },
    {
      "cell_type": "code",
      "execution_count": null,
      "metadata": {
        "id": "0qfvERFXFnYq"
      },
      "outputs": [],
      "source": [
        "# List of tuples\n",
        "students = [\n",
        "    (\"kim\", 10),\n",
        "    (\"john\", 12),\n",
        "    (\"mark\", 8),\n",
        "    (\"nina\", 19)\n",
        "]"
      ]
    },
    {
      "cell_type": "markdown",
      "metadata": {
        "id": "jHkYfk34FnYq"
      },
      "source": [
        "## II.2. Unordered sequences"
      ]
    },
    {
      "cell_type": "markdown",
      "metadata": {
        "id": "E4ACt8FOFnYq"
      },
      "source": [
        "### II.2.1. `set` are mutable unordered collections of unique elements\n",
        "\n",
        "- **`set`** are defined with curly brackets\n",
        "- you can create a set from a list: it will remove duplicates\n",
        "- be careful : elements can be displayed in a different order each time\n",
        "- **`set`** have a faster access time than **`list`**"
      ]
    },
    {
      "cell_type": "code",
      "execution_count": null,
      "metadata": {
        "id": "cIwszYKvFnYq"
      },
      "outputs": [],
      "source": [
        "countries_ = {'France', 'UK', 'USA', 'China', 'India'}"
      ]
    },
    {
      "cell_type": "code",
      "execution_count": null,
      "metadata": {
        "id": "BEF1o00NFnYr"
      },
      "outputs": [],
      "source": [
        "# .add(): to add element.\n",
        "countries_.add('Russia')"
      ]
    },
    {
      "cell_type": "code",
      "execution_count": null,
      "metadata": {
        "id": "CVe0S2dzFnYr"
      },
      "outputs": [],
      "source": [
        "# .pop(): to remove randomly an element.\n",
        "countries_.pop()"
      ]
    },
    {
      "cell_type": "code",
      "execution_count": null,
      "metadata": {
        "id": "_JWLuIKNFnYr"
      },
      "outputs": [],
      "source": [
        "# Using a set to remove duplicates from a string\n",
        "set(\"something is happening\")"
      ]
    },
    {
      "cell_type": "markdown",
      "metadata": {
        "id": "3h9brF1pFnYr"
      },
      "source": [
        "**Operations**"
      ]
    },
    {
      "cell_type": "code",
      "execution_count": null,
      "metadata": {
        "id": "K_kzMATZFnYr"
      },
      "outputs": [],
      "source": [
        "# Arithmetic\n",
        "{1, 5, 7} + {3, 4}\n",
        "{10, 20, 30} - {30, 40, 50}"
      ]
    },
    {
      "cell_type": "code",
      "execution_count": null,
      "metadata": {
        "id": "3Ga6fP97FnYr"
      },
      "outputs": [],
      "source": [
        "# Union and intersection\n",
        "{2, 4, 6} | {1, 3, 5}\n",
        "{1, 2, 3, 4} &  {2, 4, 6, 8}"
      ]
    },
    {
      "cell_type": "code",
      "execution_count": null,
      "metadata": {
        "id": "vgMyWsY9FnYs"
      },
      "outputs": [],
      "source": [
        "# Is subset and is superset\n",
        "{5, 10} <= {5, 10, 15, 20}\n",
        "{20, 40, 60} >= {20, 40}"
      ]
    },
    {
      "cell_type": "markdown",
      "metadata": {
        "id": "az3J8x_LFnYs"
      },
      "source": [
        "### II.2.2 `dict` store mappings of unique keys to values"
      ]
    },
    {
      "cell_type": "markdown",
      "metadata": {
        "id": "pkOAbpIqFnYs"
      },
      "source": [
        "- **`dict`** are defined by curly brackets, the key/value are associated with colon and there is coma between each pair\n",
        "- keys can be of any types and can have different types\n",
        "- **`dict`** also have a faster access time than **`list`**"
      ]
    },
    {
      "cell_type": "code",
      "execution_count": null,
      "metadata": {
        "colab": {
          "base_uri": "https://localhost:8080/"
        },
        "id": "ayWdSmwfFnYs",
        "outputId": "fd4d333c-8f84-4dd1-d04f-e0b2cdc2dfd5"
      },
      "outputs": [
        {
          "data": {
            "text/plain": [
              "16"
            ]
          },
          "execution_count": 40,
          "metadata": {},
          "output_type": "execute_result"
        }
      ],
      "source": [
        "# Example\n",
        "grades = {\n",
        "    'ann': [1, 3, 78],\n",
        "    'mary': 16,\n",
        "    'george': 12,\n",
        "    'william': 11\n",
        "}\n",
        "grades['mary']"
      ]
    },
    {
      "cell_type": "code",
      "execution_count": null,
      "metadata": {
        "id": "enSjewEHFnYs"
      },
      "outputs": [],
      "source": [
        "# Access the value for a given key\n",
        "grades['ann']\n",
        "# Insert a new value\n",
        "grades['tom'] = 12"
      ]
    },
    {
      "cell_type": "code",
      "execution_count": null,
      "metadata": {
        "id": "VfbEjSPsFnYx"
      },
      "outputs": [],
      "source": [
        "# Check if it contains a given value\n",
        "'mary' in grades\n",
        "# You can also use the method .get() which will returns None if nothing is found.\n",
        "grades.get('george')"
      ]
    },
    {
      "cell_type": "markdown",
      "metadata": {
        "id": "c6ySH769FnYy"
      },
      "source": [
        "**Useful methods**"
      ]
    },
    {
      "cell_type": "code",
      "execution_count": null,
      "metadata": {
        "colab": {
          "base_uri": "https://localhost:8080/"
        },
        "id": "wPKd98d5FnY3",
        "outputId": "2d028f22-267a-4cdd-ba27-8e6048878086"
      },
      "outputs": [
        {
          "data": {
            "text/plain": [
              "dict_keys(['ann', 'mary', 'george', 'william'])"
            ]
          },
          "execution_count": 41,
          "metadata": {},
          "output_type": "execute_result"
        }
      ],
      "source": [
        "# .keys(): returns all the keys.\n",
        "grades.keys()"
      ]
    },
    {
      "cell_type": "code",
      "execution_count": null,
      "metadata": {
        "colab": {
          "base_uri": "https://localhost:8080/"
        },
        "id": "Rt2jQQ34FnY3",
        "outputId": "b95bb9a2-de12-4ed1-befc-43ba3ac946a9"
      },
      "outputs": [
        {
          "data": {
            "text/plain": [
              "dict_values([[1, 3, 78], 16, 12, 11])"
            ]
          },
          "execution_count": 42,
          "metadata": {},
          "output_type": "execute_result"
        }
      ],
      "source": [
        "# .values(): returns all the values.\n",
        "grades.values()"
      ]
    },
    {
      "cell_type": "code",
      "execution_count": null,
      "metadata": {
        "colab": {
          "base_uri": "https://localhost:8080/"
        },
        "id": "LoNn9U6AFnY3",
        "outputId": "ce728057-c6d3-47a5-848e-100e3543506b"
      },
      "outputs": [
        {
          "data": {
            "text/plain": [
              "dict_items([('ann', [1, 3, 78]), ('mary', 16), ('george', 12), ('william', 11)])"
            ]
          },
          "execution_count": 43,
          "metadata": {},
          "output_type": "execute_result"
        }
      ],
      "source": [
        "# .items(): returns all keys and values\n",
        "grades.items()"
      ]
    },
    {
      "cell_type": "markdown",
      "metadata": {
        "id": "SxVVg-WQFnY3"
      },
      "source": [
        "**Nesting**"
      ]
    },
    {
      "cell_type": "code",
      "execution_count": null,
      "metadata": {
        "id": "g_OnxEGzFnY3"
      },
      "outputs": [],
      "source": [
        "furniture = {\n",
        "    'table': {'length': 100,\n",
        "              'width': 57},\n",
        "    'chair': {'length': 150,\n",
        "              'width': 78},\n",
        "    'closet': {'length': 200,\n",
        "               'width': 140}\n",
        "}"
      ]
    },
    {
      "cell_type": "code",
      "execution_count": null,
      "metadata": {
        "colab": {
          "base_uri": "https://localhost:8080/"
        },
        "id": "3Gczv8UnFnY4",
        "outputId": "1c3afccf-671c-41b5-b307-14654b3927ce"
      },
      "outputs": [
        {
          "data": {
            "text/plain": [
              "dict_keys(['table', 'chair', 'closet'])"
            ]
          },
          "execution_count": 46,
          "metadata": {},
          "output_type": "execute_result"
        }
      ],
      "source": [
        "furniture.keys()"
      ]
    },
    {
      "cell_type": "code",
      "execution_count": null,
      "metadata": {
        "colab": {
          "base_uri": "https://localhost:8080/"
        },
        "id": "5SjlLJK-FnY4",
        "outputId": "4cae5946-74b3-44d4-b2e4-0c000d6940b9"
      },
      "outputs": [
        {
          "data": {
            "text/plain": [
              "dict_keys(['length', 'width'])"
            ]
          },
          "execution_count": 47,
          "metadata": {},
          "output_type": "execute_result"
        }
      ],
      "source": [
        "furniture['table'].keys()"
      ]
    },
    {
      "cell_type": "code",
      "execution_count": null,
      "metadata": {
        "colab": {
          "base_uri": "https://localhost:8080/"
        },
        "id": "IBe7w-k8FnY4",
        "outputId": "8a0b79bd-fd99-4c71-de9b-d13f676fbd4d"
      },
      "outputs": [
        {
          "data": {
            "text/plain": [
              "100"
            ]
          },
          "execution_count": 48,
          "metadata": {},
          "output_type": "execute_result"
        }
      ],
      "source": [
        "furniture['table']['length']"
      ]
    }
  ],
  "metadata": {
    "colab": {
      "collapsed_sections": [
        "ObA4s6vgFnYq",
        "jHkYfk34FnYq",
        "E4ACt8FOFnYq",
        "az3J8x_LFnYs"
      ],
      "provenance": []
    },
    "kernelspec": {
      "display_name": "Python 3 (ipykernel)",
      "language": "python",
      "name": "python3"
    },
    "language_info": {
      "codemirror_mode": {
        "name": "ipython",
        "version": 3
      },
      "file_extension": ".py",
      "mimetype": "text/x-python",
      "name": "python",
      "nbconvert_exporter": "python",
      "pygments_lexer": "ipython3",
      "version": "3.11.6"
    }
  },
  "nbformat": 4,
  "nbformat_minor": 0
}
