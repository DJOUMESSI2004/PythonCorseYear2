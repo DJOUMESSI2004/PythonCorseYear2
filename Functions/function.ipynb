{
 "cells": [
  {
   "cell_type": "code",
   "execution_count": 1,
   "metadata": {},
   "outputs": [
    {
     "name": "stdout",
     "output_type": "stream",
     "text": [
      "[1, 2, 4, 8]\n"
     ]
    }
   ],
   "source": [
    "\n",
    "\"\"\"Most Optimise way of printing factors of a number\"\"\"\n",
    "def factors(n):\n",
    "    factors = [i for i in range(1, n + 1) if n % i == 0]\n",
    "    return factors\n",
    "\n",
    "print(factors[1, 2, 4, 8]\n",
    "(8))"
   ]
  },
  {
   "cell_type": "code",
   "execution_count": 4,
   "metadata": {},
   "outputs": [
    {
     "name": "stdout",
     "output_type": "stream",
     "text": [
      "[1, 2, 3, 4, 6, 8, 12, 24]\n"
     ]
    }
   ],
   "source": [
    "\"\"\"Simple way of printing factors of a number\"\"\"\n",
    "def factors(n):\n",
    "    factors = []\n",
    "    for i in range(1,n):\n",
    "        if n%i == 0:\n",
    "            factors.append(i)\n",
    "    factors.append(n)\n",
    "    return factors\n",
    "\n",
    "\n",
    "print(factors(24)) "
   ]
  }
 ],
 "metadata": {
  "kernelspec": {
   "display_name": "Python 3",
   "language": "python",
   "name": "python3"
  },
  "language_info": {
   "codemirror_mode": {
    "name": "ipython",
    "version": 3
   },
   "file_extension": ".py",
   "mimetype": "text/x-python",
   "name": "python",
   "nbconvert_exporter": "python",
   "pygments_lexer": "ipython3",
   "version": "3.11.6"
  }
 },
 "nbformat": 4,
 "nbformat_minor": 2
}
